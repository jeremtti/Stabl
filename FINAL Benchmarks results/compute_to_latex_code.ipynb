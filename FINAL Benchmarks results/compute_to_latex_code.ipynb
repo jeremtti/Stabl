{
 "cells": [
  {
   "cell_type": "code",
   "execution_count": 29,
   "metadata": {},
   "outputs": [],
   "source": [
    "import pandas as pd\n",
    "import numpy as np\n",
    "\n",
    "list_latex_models = [\"Lasso\", \"ElasticNet\", \"RandomForest\", \"XGBoost\", \"STABL Lasso\", \"STABL ElasticNet\", \"STABL RandomForest\", \"STABL XGBoost\"]\n",
    "\n",
    "def count_informative_features(selected_features_str, start = 1, end = 25):\n",
    "    selected_features = eval(selected_features_str)\n",
    "    # print(selected_features)\n",
    "    list_int = np.array([int(feature[1:]) for feature in selected_features])\n",
    "\n",
    "    bool_list = (list_int<=25) & (list_int>=1)\n",
    "    return (np.sum(bool_list))\n",
    "\n",
    "def metric_computation_for_one_dataframe(model):\n",
    "    file_path = f'Selected Features {model}.csv'\n",
    "    df = pd.read_csv(file_path)\n",
    "    df[\"Nb_of_features_between_x1_and_x25\"] = df[\"Fold selected features\"].apply(count_informative_features)\n",
    "    df[\"IOU_per_fold\"] = df[\"Nb_of_features_between_x1_and_x25\"]/(df[\"Fold nb of features\"] + 25 - df[\"Nb_of_features_between_x1_and_x25\"])\n",
    "    mean_number_of_selected_features = df[\"Fold nb of features\"].mean()\n",
    "    mean_IOU = df[\"IOU_per_fold\"].mean()\n",
    "    return(mean_number_of_selected_features, mean_IOU)\n",
    "\n"
   ]
  },
  {
   "cell_type": "code",
   "execution_count": 30,
   "metadata": {},
   "outputs": [
    {
     "data": {
      "text/plain": [
       "(np.float64(8.2), np.float64(0.10200739910243388))"
      ]
     },
     "execution_count": 30,
     "metadata": {},
     "output_type": "execute_result"
    }
   ],
   "source": [
    "metric_computation_for_one_dataframe(list_latex_models[0])"
   ]
  },
  {
   "cell_type": "code",
   "execution_count": 31,
   "metadata": {},
   "outputs": [],
   "source": [
    "# latex code for regression\n",
    "string = \"\"\n",
    "for model in list_latex_models:\n",
    "    mean_number_of_selected_features, mean_IOU = metric_computation_for_one_dataframe(model)\n",
    "    string += \"& \\makecell{\" + f\"{mean_IOU: .2f}\" + f\"\\\\ ({mean_number_of_selected_features: .0f}/100)\" + \"}\""
   ]
  },
  {
   "cell_type": "code",
   "execution_count": 32,
   "metadata": {},
   "outputs": [
    {
     "data": {
      "text/plain": [
       "'& \\\\makecell{ 0.10\\\\ ( 8/100)}& \\\\makecell{ 0.12\\\\ ( 12/100)}& \\\\makecell{ 0.25\\\\ ( 100/100)}& \\\\makecell{ 0.25\\\\ ( 98/100)}& \\\\makecell{ 0.14\\\\ ( 11/100)}& \\\\makecell{ 0.15\\\\ ( 12/100)}& \\\\makecell{ 0.15\\\\ ( 4/100)}& \\\\makecell{ 0.17\\\\ ( 5/100)}'"
      ]
     },
     "execution_count": 32,
     "metadata": {},
     "output_type": "execute_result"
    }
   ],
   "source": [
    "string"
   ]
  },
  {
   "cell_type": "code",
   "execution_count": null,
   "metadata": {},
   "outputs": [],
   "source": []
  }
 ],
 "metadata": {
  "kernelspec": {
   "display_name": "general_env",
   "language": "python",
   "name": "python3"
  },
  "language_info": {
   "codemirror_mode": {
    "name": "ipython",
    "version": 3
   },
   "file_extension": ".py",
   "mimetype": "text/x-python",
   "name": "python",
   "nbconvert_exporter": "python",
   "pygments_lexer": "ipython3",
   "version": "3.10.15"
  }
 },
 "nbformat": 4,
 "nbformat_minor": 2
}
